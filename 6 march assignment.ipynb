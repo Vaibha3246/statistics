{
 "cells": [
  {
   "cell_type": "code",
   "execution_count": null,
   "metadata": {},
   "outputs": [],
   "source": []
  },
  {
   "cell_type": "markdown",
   "metadata": {},
   "source": [
    "Q1. What is Statistics?\n",
    "\n",
    "answer: \n",
    "statistics is collection , organizing and visulization of numerical data"
   ]
  },
  {
   "cell_type": "markdown",
   "metadata": {},
   "source": []
  },
  {
   "cell_type": "markdown",
   "metadata": {},
   "source": [
    "Q2. Define the different types of statistics and give an example of when each type might be used.\n",
    "\n",
    "answer : 1. descriptive 2. inferential \n",
    "\n",
    "1. desriptive : is used for orginizing and summerize the data \n",
    "\n",
    "example : suppose i have a shop and i have record daily of my shop ,but i calculate  total income or profit  weekly \n",
    "\n",
    "so i caculate easily (mean , meadian , min , max).\n",
    "\n",
    "days  | income \n",
    "monday| 2000\n",
    "tuesday|3000\n",
    "wednesday|1000\n",
    "thursday|1500\n",
    "friday|1200\n",
    "saturday|3500\n",
    "sunday|5000\n",
    "\n",
    "lets i check average from this data \n",
    "\n",
    "avg=(2000+3000+1000+1500+1200+3500+5000)/7\n",
    "=2457.14\n",
    "\n",
    "\n",
    "2. inferential : in a population data (big data) predict a sample data (small data)\n",
    "\n",
    "note : sample data is a subset of population data\n",
    "\n",
    "\n",
    "ex: a different branches student in the college \n",
    "engineering branch \n",
    "cse ,ece ,civil mechanical \n",
    "\n",
    "lets check the  palcement of the student \n",
    "\n",
    "(cse ,ece ,civil mechanical ) = population data\n",
    "\n",
    "sample data : we check every branch placemnt record from the population data\n",
    "\n",
    "\n",
    "\n"
   ]
  },
  {
   "cell_type": "markdown",
   "metadata": {},
   "source": []
  },
  {
   "cell_type": "markdown",
   "metadata": {},
   "source": [
    "Q3. What are the different types of data and how do they differ from each other? Provide an example of\n",
    "each type of data.\n",
    "\n",
    "anwer :  1  quantative                               |      2 . qualitive : the qualitive data work on categorial\n",
    "                                                                 data\n",
    " the quantative data is work on numerical                     \n",
    " column,variable .  \n",
    "                                                             two types of qualitive data :\n",
    " two types of quantative data                        |                 \n",
    "                                                             1. nominal data : this data is work on categorial data\n",
    "1 discre data : the data were the value of numerical |         .order is not important \n",
    "                                                             2. rank is not matter \n",
    "under in whole number                                       \n",
    " ex - 1 ,2 ,4,5,6 means the value under comes in int |        ex> eyes colur , blood group ,people, colors ,food \n",
    "\n",
    " 2. no. of family  member in the family\n",
    " 3. no. of bank account number                               ordinal data : rank is imortant \n",
    "                                                     |       .order is matter \n",
    "                                                             . but differnce not calculated\n",
    "                                                                                           \n",
    " 2 . continous data: the data where any values (     |       ex- rank in iit , nit etc \n",
    "                                                              2. a company which required the feedback of customer \n",
    "                                                              god , bad , better\n",
    "  like float value)comes inside a   numerical column \n",
    "\n",
    "ex - height measure , temerature ,distance    etc    |                    \n",
    "                                                               \n",
    "                                                             "
   ]
  },
  {
   "cell_type": "markdown",
   "metadata": {},
   "source": []
  },
  {
   "cell_type": "markdown",
   "metadata": {},
   "source": [
    "Q4. Categorise the following datasets with respect to quantitative and qualitative data types:\n",
    "\n",
    "(i) Grading in exam: A+, A, B+, B, C+, C, D, E\n",
    "(ii) Colour of mangoes: yellow, green, orange, red\n",
    "(iii) Height data of a class: [178.9, 179, 179.5, 176, 177.2, 178.3, 175.8,...]\n",
    "(iv) Number of mangoes exported by a farm: [500, 600, 478, 672, ...]\n",
    "\n",
    "\n",
    "answer:\n",
    "(i) Grading in exam: A+, A, B+, B, C+, C, D, E :  ordinal data (qualitive data )\n",
    "\n",
    "\n",
    "(ii) Colour of mangoes: yellow, green, orange, red :  nominal data(qualitive data)\n",
    "\n",
    "\n",
    "(iii) Height data of a class: [178.9, 179, 179.5, 176, 177.2, 178.3, 175.8,...]   : (quantative data)\n",
    "\n",
    "\n",
    "(iv) Number of mangoes exported by a farm: [500, 600, 478, 672, ...] :discrete data   (quantative data)\n",
    "\n",
    "\n"
   ]
  },
  {
   "cell_type": "code",
   "execution_count": null,
   "metadata": {},
   "outputs": [],
   "source": []
  },
  {
   "cell_type": "markdown",
   "metadata": {},
   "source": [
    "Q5. Explain the concept of levels of measurement and give an example of a variable for each level.\n",
    "\n",
    "answer : \n",
    "\n",
    "1.nominal scale data : \n",
    "it is work on qualitative data/categorial \n",
    ".rank is not imortant .\n",
    ".order is not matter \n",
    "\n",
    "example : colors, blood group etc \n",
    "\n",
    "2.ordinal scale data \n",
    ".rank ,order is matter\n",
    "2. difference is not measure \n",
    "\n",
    "ex- Grading in exam: A+, A, B+, B, C+, C, D, E \n",
    " customer rivew  for a app(amazon, flipkart and other)\n",
    "good ,better , bad \n",
    "\n",
    "\n",
    "interval scale data :\n",
    ".rank is important\n",
    ".order is matter\n",
    ".differnce can be measured \n",
    ".'0' can't be a strating point\n",
    ".ratio can't be measured\n",
    "\n",
    "example : temerature variable (30f,60f, 90f,120 ) u can easily measure the differce between 2 temerature \n",
    "\n",
    "ratio scale data :\n",
    ".order , rank is matter \n",
    ".differce can be measured \n",
    ".0 can be starting point\n",
    ".ratio can  e measured \n",
    "\n",
    "ex : a students marks in the class\n",
    "\n",
    "suppose 5 student marks (out of 100)\n",
    "80,90,50,40,60 \n",
    "so u can change order this data in ascending way\n",
    ".easily measured difference\n",
    ".eaily measured ratio \n",
    "\n",
    "\n"
   ]
  },
  {
   "cell_type": "markdown",
   "metadata": {},
   "source": [
    "Q6. Why is it important to understand the level of measurement when analyzing data? Provide an\n",
    "example to illustrate your answer.\n",
    "\n",
    "\n",
    "answer : because we do  diffrent analysis in the level of measurnment so, that\" why it is improtant.\n",
    "\n"
   ]
  },
  {
   "cell_type": "markdown",
   "metadata": {},
   "source": [
    "Q7. How nominal data type is different from ordinal data type.\n",
    "\n",
    "answer :\n",
    "beacuse in nominal data rank, order is not important , but in ordinal data rank order is matter"
   ]
  },
  {
   "cell_type": "markdown",
   "metadata": {},
   "source": [
    "Q8. Which type of plot can be used to display data in terms of range?\n",
    "\n",
    "answer : 1 histogram plot \n",
    "         2. kde plot"
   ]
  },
  {
   "cell_type": "markdown",
   "metadata": {},
   "source": [
    "Q9. Describe the difference between descriptive and inferential statistics. Give an example of each\n",
    "type of statistics and explain how they are used.\n",
    "\n",
    "answer :\n",
    "\n",
    "Descriptive Statistics:\n",
    "\n",
    "Descriptive statistics involves summarizing and describing the main features of a dataset. It focuses on organizing, displaying, and summarizing data in a meaningful way without making any inferences beyond the dataset itself.\n",
    "Descriptive statistics are used to provide a clear and concise summary of the data, enabling researchers and analysts to understand its basic characteristics and patterns.\n",
    "Examples of descriptive statistics include measures of central tendency (mean, median, mode), measures of dispersion (range, standard deviation), and graphical representations (histograms, bar charts, pie charts).\n",
    "For example, if we have a dataset consisting of the ages of individuals in a population, we can use descriptive statistics to calculate the average age (mean), the most common age (mode), and the variability in ages (standard deviation). These statistics help us understand the distribution and characteristics of age within the population.\n",
    "Inferential Statistics:\n",
    "\n",
    "Inferential statistics involves making inferences or predictions about a population based on a sample of data drawn from that population. It allows researchers to generalize findings from a sample to a larger population and to test hypotheses and make predictions.\n",
    "Inferential statistics utilize probability theory and sampling techniques to estimate population parameters, test hypotheses, and determine the likelihood of observed differences or relationships occurring by chance.\n",
    "Examples of inferential statistics include hypothesis testing, confidence intervals, regression analysis, and analysis of variance (ANOVA).\n",
    "For instance, if we want to determine whether there's a significant difference in the mean test scores of students who participated in a tutoring program versus those who did not, we can use inferential statistics such as a t-test to compare the means of the two groups. Based on the results of the test, we can infer whether the observed difference in means is statistically significant and not due to random variation.\n",
    "\n"
   ]
  },
  {
   "cell_type": "markdown",
   "metadata": {},
   "source": [
    "Q10. What are some common measures of central tendency and variability used in statistics? Explain\n",
    "how each measure can be used to describe a dataset. \n",
    "\n",
    "answer:\n",
    "\n",
    "Measures of Central Tendency:\n",
    "\n",
    "Mean: The mean, often referred to as the average, is calculated by summing all the values in a dataset and dividing by the total number of values. It represents the \"center\" of the data distribution.\n",
    "\n",
    "Example: In a dataset of exam scores (80, 85, 90, 95), the mean score would be (80 + 85 + 90 + 95) / 4 = 87.5.\n",
    "Median: The median is the middle value when the dataset is arranged in ascending or descending order. If there's an even number of observations, the median is the average of the two middle values. It's less sensitive to outliers compared to the mean.\n",
    "\n",
    "Example: In the dataset of exam scores from before, the median would be 87.5.\n",
    "Mode: The mode is the value that appears most frequently in the dataset. A dataset can have one mode (unimodal), two modes (bimodal), or more than two modes (multimodal).\n",
    "\n",
    "Example: In the dataset of exam scores, if the scores are (80, 85, 90, 90, 95), the mode would be 90.\n",
    "Measures of Variability:\n",
    "\n",
    "Range: The range is the difference between the maximum and minimum values in the dataset. It provides a simple measure of the spread of the data.\n",
    "\n",
    "Example: In the exam scores dataset (80, 85, 90, 95), the range would be 95 - 80 = 15.\n",
    "Variance: The variance measures the average squared deviation of each data point from the mean. It quantifies the spread or dispersion of the data.\n",
    "\n",
    "Example: Calculating the variance involves finding the squared difference of each score from the mean, summing these squared differences, and dividing by the total number of scores.\n",
    "Standard Deviation: The standard deviation is the square root of the variance. It provides a measure of the average deviation of data points from the mean. A smaller standard deviation indicates that the data points are closer to the mean.\n",
    "\n",
    "Example: Continuing with the exam scores dataset, calculating the standard deviation involves taking the square root of the variance."
   ]
  }
 ],
 "metadata": {
  "kernelspec": {
   "display_name": "Python 3",
   "language": "python",
   "name": "python3"
  },
  "language_info": {
   "name": "python",
   "version": "3.11.9"
  }
 },
 "nbformat": 4,
 "nbformat_minor": 2
}
